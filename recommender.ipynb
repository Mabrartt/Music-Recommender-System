{
 "cells": [
  {
   "cell_type": "code",
   "execution_count": 1,
   "metadata": {},
   "outputs": [],
   "source": [
    "import pickle\n",
    "import pandas as pd\n",
    "import numpy as np"
   ]
  },
  {
   "cell_type": "code",
   "execution_count": 2,
   "metadata": {},
   "outputs": [],
   "source": [
    "df = pickle.load(open('df.pkl', 'rb'))\n",
    "songs_count = df.shape[0]\n",
    "energy_similarity_mapping = pickle.load(open('energy_similarity_mapping.pkl', 'rb'))"
   ]
  },
  {
   "cell_type": "code",
   "execution_count": 3,
   "metadata": {},
   "outputs": [],
   "source": [
    "def sort_by_popularity(songs, descending=True):\n",
    "    if descending:\n",
    "        return songs.sort_values(by=['Popularity'])[::-1]\n",
    "    else:\n",
    "        return songs.sort_values(by=['Popularity'])"
   ]
  },
  {
   "cell_type": "code",
   "execution_count": 4,
   "metadata": {},
   "outputs": [],
   "source": [
    "def get_similar(track_index, count, comparison_matrix, select_smallest):\n",
    "    similar_songs_indexes = np.argsort(np.array(comparison_matrix[track_index]))\n",
    "    similar_songs_indexes = np.delete(similar_songs_indexes, np.where(similar_songs_indexes == track_index))\n",
    "    similar_songs_indexes = similar_songs_indexes[:count] if select_smallest else similar_songs_indexes[::-1][:count]\n",
    "    return df.iloc[similar_songs_indexes].copy()"
   ]
  },
  {
   "cell_type": "code",
   "execution_count": 5,
   "metadata": {},
   "outputs": [],
   "source": [
    "def recommendations_as_list(songs, include_fields):\n",
    "    songs = songs[include_fields].copy()\n",
    "    songs['index'] = songs.index\n",
    "    return songs.to_dict(orient='records')"
   ]
  },
  {
   "cell_type": "code",
   "execution_count": 6,
   "metadata": {},
   "outputs": [],
   "source": [
    "def get_closest_n(track_index, count):\n",
    "    if track_index >= count//2 and track_index < songs_count-count//2:\n",
    "        return pd.concat([df.iloc[track_index-count//2 : track_index], df.iloc[track_index+1 : track_index+count//2+1]])\n",
    "    elif track_index < count//2:\n",
    "        return df.head(count+1).drop(track_index)\n",
    "    else:\n",
    "        return df.tail(count+1).drop(track_index)"
   ]
  },
  {
   "cell_type": "code",
   "execution_count": 7,
   "metadata": {},
   "outputs": [],
   "source": [
    "def get_metadata(track_index):\n",
    "    return df.iloc[track_index][['Track Name', 'Artist Name(s)']].to_dict()"
   ]
  },
  {
   "cell_type": "code",
   "execution_count": 8,
   "metadata": {},
   "outputs": [],
   "source": [
    "def get_by_same_artist(track_index, count):\n",
    "    return df[df['Artist Name(s)'] == df.iloc[track_index]['Artist Name(s)']].drop(track_index)[:count]"
   ]
  },
  {
   "cell_type": "code",
   "execution_count": 9,
   "metadata": {},
   "outputs": [],
   "source": [
    "def get_energy_similar(track_index, count):\n",
    "    similar_songs_indexes = energy_similarity_mapping[track_index][:count]\n",
    "    return df.iloc[similar_songs_indexes].copy()"
   ]
  },
  {
   "cell_type": "code",
   "execution_count": 10,
   "metadata": {},
   "outputs": [],
   "source": [
    "def get_random(count):\n",
    "    return df.sample(count)"
   ]
  },
  {
   "cell_type": "code",
   "execution_count": 11,
   "metadata": {},
   "outputs": [],
   "source": [
    "def get_released_around_same_time(track_index, count):\n",
    "    return get_closest_n(track_index, count)"
   ]
  },
  {
   "cell_type": "code",
   "execution_count": 12,
   "metadata": {},
   "outputs": [],
   "source": [
    "def recommend_by_same_artist(track_index, count, prioritisePopular, include_fields):\n",
    "    songs_by_same_artist = get_by_same_artist(track_index, count*2)\n",
    "    songs_by_same_artist = sort_by_popularity(songs_by_same_artist, prioritisePopular)[:count]\n",
    "    return recommendations_as_list(songs_by_same_artist, include_fields)"
   ]
  },
  {
   "cell_type": "code",
   "execution_count": 13,
   "metadata": {},
   "outputs": [],
   "source": [
    "def recommend_energy_similar(track_index, count, prioritisePopular, include_fields):\n",
    "    similar_songs = get_energy_similar(track_index, count*2)\n",
    "    similar_songs = sort_by_popularity(similar_songs, prioritisePopular)[:count]\n",
    "    return recommendations_as_list(similar_songs, include_fields)"
   ]
  },
  {
   "cell_type": "code",
   "execution_count": 14,
   "metadata": {},
   "outputs": [],
   "source": [
    "def recommend_released_around_same_time(track_index, count, prioritisePopular, include_fields):\n",
    "    contemporary_songs = get_released_around_same_time(track_index, count*2)\n",
    "    contemporary_songs = sort_by_popularity(contemporary_songs, prioritisePopular)[:count]\n",
    "    return recommendations_as_list(contemporary_songs, include_fields)"
   ]
  },
  {
   "cell_type": "code",
   "execution_count": 15,
   "metadata": {},
   "outputs": [],
   "source": [
    "def recommend_random(count, prioritisePopular, include_fields):\n",
    "    random_songs = get_random(count*2)\n",
    "    random_songs = sort_by_popularity(random_songs, prioritisePopular)[:count]\n",
    "    return recommendations_as_list(random_songs, include_fields)"
   ]
  },
  {
   "cell_type": "code",
   "execution_count": 17,
   "metadata": {},
   "outputs": [],
   "source": [
    "def hybrid_recommend(track_index, count=5, prioritisePopular=True):\n",
    "    include_fields = ['track_name', 'track_artist']\n",
    "    all_recommendations = dict()\n",
    "    all_recommendations['by same artist'] = recommend_by_same_artist(track_index, count, prioritisePopular, include_fields)\n",
    "    all_recommendations['similar energy'] = recommend_energy_similar(track_index, count, prioritisePopular, include_fields)\n",
    "    all_recommendations['released around same time'] = recommend_released_around_same_time(track_index, count, prioritisePopular, include_fields)\n",
    "    all_recommendations['random'] = recommend_random(count, prioritisePopular, include_fields)\n",
    "    return all_recommendations"
   ]
  },
  {
   "cell_type": "code",
   "execution_count": 19,
   "metadata": {},
   "outputs": [],
   "source": [
    "from random import randint\n",
    "\n",
    "random_song_index = randint(0, songs_count-1)\n",
    "\n",
    "# test if number of each recommendation is less than or equal to the given count\n",
    "def test_recommend_output():\n",
    "    hybrid_recommend_output = hybrid_recommend(random_song_index, 5, True)\n",
    "    for songs in hybrid_recommend_output.values():\n",
    "        assert len(songs) <= 5\n",
    "\n",
    "# test if metadata for a song includes the necessary keys\n",
    "def test_metadata_output():\n",
    "    get_metadata_output = get_metadata(random_song_index)\n",
    "    assert {'track_name', 'track_artist', 'lyrics'}.issubset(get_metadata_output)"
   ]
  }
 ],
 "metadata": {
  "kernelspec": {
   "display_name": "base",
   "language": "python",
   "name": "python3"
  },
  "language_info": {
   "codemirror_mode": {
    "name": "ipython",
    "version": 3
   },
   "file_extension": ".py",
   "mimetype": "text/x-python",
   "name": "python",
   "nbconvert_exporter": "python",
   "pygments_lexer": "ipython3",
   "version": "3.10.11"
  }
 },
 "nbformat": 4,
 "nbformat_minor": 2
}
